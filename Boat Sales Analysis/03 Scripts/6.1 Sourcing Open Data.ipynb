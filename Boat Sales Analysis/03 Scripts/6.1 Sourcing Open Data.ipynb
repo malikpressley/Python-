{
 "cells": [
  {
   "cell_type": "markdown",
   "id": "1564a376",
   "metadata": {},
   "source": [
    "# 01. Importing Libraries"
   ]
  },
  {
   "cell_type": "code",
   "execution_count": 49,
   "id": "7b000685",
   "metadata": {},
   "outputs": [],
   "source": [
    "#Import libraries\n",
    "import pandas as pd\n",
    "import numpy as np\n",
    "import os"
   ]
  },
  {
   "cell_type": "markdown",
   "id": "27b12742",
   "metadata": {},
   "source": [
    "# 02. Importing Data"
   ]
  },
  {
   "cell_type": "code",
   "execution_count": 50,
   "id": "b59554e9",
   "metadata": {},
   "outputs": [],
   "source": [
    "df = pd.read_csv(r'/Users/malikpressley/Desktop/Achievement 6/Boat Sales Analysis/02 Data/Original Data/boat_data.csv', index_col = False)"
   ]
  },
  {
   "cell_type": "code",
   "execution_count": 51,
   "id": "9fe4ad39",
   "metadata": {},
   "outputs": [],
   "source": [
    "path = r'/Users/malikpressley/Desktop/Achievement 6/Boat Sales Analysis'"
   ]
  },
  {
   "cell_type": "code",
   "execution_count": 52,
   "id": "74a50d7e",
   "metadata": {},
   "outputs": [],
   "source": [
    "df = pd.read_csv(os.path.join(path, '02 Data', 'Original Data', 'boat_data.csv'), index_col = False)"
   ]
  },
  {
   "cell_type": "markdown",
   "id": "795f06d5",
   "metadata": {},
   "source": [
    "# 03. Exploring Data"
   ]
  },
  {
   "cell_type": "code",
   "execution_count": 53,
   "id": "3276d235",
   "metadata": {},
   "outputs": [
    {
     "data": {
      "text/html": [
       "<div>\n",
       "<style scoped>\n",
       "    .dataframe tbody tr th:only-of-type {\n",
       "        vertical-align: middle;\n",
       "    }\n",
       "\n",
       "    .dataframe tbody tr th {\n",
       "        vertical-align: top;\n",
       "    }\n",
       "\n",
       "    .dataframe thead th {\n",
       "        text-align: right;\n",
       "    }\n",
       "</style>\n",
       "<table border=\"1\" class=\"dataframe\">\n",
       "  <thead>\n",
       "    <tr style=\"text-align: right;\">\n",
       "      <th></th>\n",
       "      <th>Price</th>\n",
       "      <th>Boat Type</th>\n",
       "      <th>Manufacturer</th>\n",
       "      <th>Type</th>\n",
       "      <th>Year Built</th>\n",
       "      <th>Length</th>\n",
       "      <th>Width</th>\n",
       "      <th>Material</th>\n",
       "      <th>Location</th>\n",
       "      <th>Number of views last 7 days</th>\n",
       "    </tr>\n",
       "  </thead>\n",
       "  <tbody>\n",
       "    <tr>\n",
       "      <th>0</th>\n",
       "      <td>EUR 61713</td>\n",
       "      <td>Bowrider</td>\n",
       "      <td>Regal power boats</td>\n",
       "      <td>new boat from stock,Unleaded</td>\n",
       "      <td>2021</td>\n",
       "      <td>6.10</td>\n",
       "      <td>2.50</td>\n",
       "      <td>GRP</td>\n",
       "      <td>Germany Â» Lake Constance Â» Lindau/Bodensee</td>\n",
       "      <td>110</td>\n",
       "    </tr>\n",
       "    <tr>\n",
       "      <th>1</th>\n",
       "      <td>CHF 72700</td>\n",
       "      <td>Bowrider</td>\n",
       "      <td>Tahoe power boats</td>\n",
       "      <td>new boat on order,Unleaded</td>\n",
       "      <td>2021</td>\n",
       "      <td>6.40</td>\n",
       "      <td>2.55</td>\n",
       "      <td>GRP</td>\n",
       "      <td>Switzerland Â» Lake of Zurich Â» Horgen</td>\n",
       "      <td>205</td>\n",
       "    </tr>\n",
       "    <tr>\n",
       "      <th>2</th>\n",
       "      <td>CHF 84329</td>\n",
       "      <td>Sport Boat</td>\n",
       "      <td>Regal power boats</td>\n",
       "      <td>new boat from stock,Unleaded</td>\n",
       "      <td>2021</td>\n",
       "      <td>6.40</td>\n",
       "      <td>2.50</td>\n",
       "      <td>GRP</td>\n",
       "      <td>Switzerland Â» Lake of Zurich Â» Altendorf</td>\n",
       "      <td>128</td>\n",
       "    </tr>\n",
       "    <tr>\n",
       "      <th>3</th>\n",
       "      <td>CHF 96856</td>\n",
       "      <td>Sport Boat</td>\n",
       "      <td>Regal power boats</td>\n",
       "      <td>new boat from stock,Unleaded</td>\n",
       "      <td>2021</td>\n",
       "      <td>6.25</td>\n",
       "      <td>2.50</td>\n",
       "      <td>GRP</td>\n",
       "      <td>Switzerland Â» Lake of Zurich Â» Altendorf</td>\n",
       "      <td>218</td>\n",
       "    </tr>\n",
       "    <tr>\n",
       "      <th>4</th>\n",
       "      <td>CHF 102168</td>\n",
       "      <td>Bowrider</td>\n",
       "      <td>Chaparral power boats</td>\n",
       "      <td>new boat on order,Unleaded</td>\n",
       "      <td>2021</td>\n",
       "      <td>7.01</td>\n",
       "      <td>2.59</td>\n",
       "      <td>GRP</td>\n",
       "      <td>Switzerland Â» Lake Constance Â» Gottlieben</td>\n",
       "      <td>312</td>\n",
       "    </tr>\n",
       "  </tbody>\n",
       "</table>\n",
       "</div>"
      ],
      "text/plain": [
       "        Price   Boat Type           Manufacturer  \\\n",
       "0   EUR 61713    Bowrider      Regal power boats   \n",
       "1   CHF 72700    Bowrider      Tahoe power boats   \n",
       "2   CHF 84329  Sport Boat      Regal power boats   \n",
       "3   CHF 96856  Sport Boat      Regal power boats   \n",
       "4  CHF 102168    Bowrider  Chaparral power boats   \n",
       "\n",
       "                           Type  Year Built  Length  Width Material  \\\n",
       "0  new boat from stock,Unleaded        2021    6.10   2.50      GRP   \n",
       "1    new boat on order,Unleaded        2021    6.40   2.55      GRP   \n",
       "2  new boat from stock,Unleaded        2021    6.40   2.50      GRP   \n",
       "3  new boat from stock,Unleaded        2021    6.25   2.50      GRP   \n",
       "4    new boat on order,Unleaded        2021    7.01   2.59      GRP   \n",
       "\n",
       "                                       Location  Number of views last 7 days  \n",
       "0  Germany Â» Lake Constance Â» Lindau/Bodensee                          110  \n",
       "1       Switzerland Â» Lake of Zurich Â» Horgen                          205  \n",
       "2   Switzerland Â» Lake of Zurich Â» Altendorf                           128  \n",
       "3   Switzerland Â» Lake of Zurich Â» Altendorf                           218  \n",
       "4  Switzerland Â» Lake Constance Â» Gottlieben                           312  "
      ]
     },
     "execution_count": 53,
     "metadata": {},
     "output_type": "execute_result"
    }
   ],
   "source": [
    "df.head()"
   ]
  },
  {
   "cell_type": "code",
   "execution_count": 54,
   "id": "c466f0dc",
   "metadata": {},
   "outputs": [
    {
     "data": {
      "text/html": [
       "<div>\n",
       "<style scoped>\n",
       "    .dataframe tbody tr th:only-of-type {\n",
       "        vertical-align: middle;\n",
       "    }\n",
       "\n",
       "    .dataframe tbody tr th {\n",
       "        vertical-align: top;\n",
       "    }\n",
       "\n",
       "    .dataframe thead th {\n",
       "        text-align: right;\n",
       "    }\n",
       "</style>\n",
       "<table border=\"1\" class=\"dataframe\">\n",
       "  <thead>\n",
       "    <tr style=\"text-align: right;\">\n",
       "      <th></th>\n",
       "      <th>Price</th>\n",
       "      <th>Boat Type</th>\n",
       "      <th>Manufacturer</th>\n",
       "      <th>Type</th>\n",
       "      <th>Year Built</th>\n",
       "      <th>Length</th>\n",
       "      <th>Width</th>\n",
       "      <th>Material</th>\n",
       "      <th>Location</th>\n",
       "      <th>Number of views last 7 days</th>\n",
       "    </tr>\n",
       "  </thead>\n",
       "  <tbody>\n",
       "    <tr>\n",
       "      <th>9883</th>\n",
       "      <td>CHF 5000</td>\n",
       "      <td>Pilothouse</td>\n",
       "      <td>Lambro power boats</td>\n",
       "      <td>Used boat,Unleaded</td>\n",
       "      <td>0</td>\n",
       "      <td>6.50</td>\n",
       "      <td>2.45</td>\n",
       "      <td>GRP</td>\n",
       "      <td>Switzerland Â» 3421 Lyssach</td>\n",
       "      <td>550</td>\n",
       "    </tr>\n",
       "    <tr>\n",
       "      <th>9884</th>\n",
       "      <td>CHF 4990</td>\n",
       "      <td>Sport Boat</td>\n",
       "      <td>Pioner power boats</td>\n",
       "      <td>new boat on order</td>\n",
       "      <td>0</td>\n",
       "      <td>4.11</td>\n",
       "      <td>1.73</td>\n",
       "      <td>NaN</td>\n",
       "      <td>Switzerland Â» Safenwil</td>\n",
       "      <td>280</td>\n",
       "    </tr>\n",
       "    <tr>\n",
       "      <th>9885</th>\n",
       "      <td>CHF 4980</td>\n",
       "      <td>Sport Boat</td>\n",
       "      <td>Linder power boats</td>\n",
       "      <td>new boat from stock</td>\n",
       "      <td>0</td>\n",
       "      <td>4.01</td>\n",
       "      <td>1.64</td>\n",
       "      <td>Aluminium</td>\n",
       "      <td>Switzerland Â» Lake Constance Â» Uttwil</td>\n",
       "      <td>247</td>\n",
       "    </tr>\n",
       "    <tr>\n",
       "      <th>9886</th>\n",
       "      <td>CHF 4950</td>\n",
       "      <td>Sport Boat</td>\n",
       "      <td>Marine power boats</td>\n",
       "      <td>new boat from stock</td>\n",
       "      <td>0</td>\n",
       "      <td>3.99</td>\n",
       "      <td>1.52</td>\n",
       "      <td>Aluminium</td>\n",
       "      <td>Switzerland Â» Lake of Zurich Â» StÃ¤fa ZH</td>\n",
       "      <td>150</td>\n",
       "    </tr>\n",
       "    <tr>\n",
       "      <th>9887</th>\n",
       "      <td>EUR 4516</td>\n",
       "      <td>Sport Boat</td>\n",
       "      <td>NaN</td>\n",
       "      <td>new boat from stock</td>\n",
       "      <td>0</td>\n",
       "      <td>4.17</td>\n",
       "      <td>1.68</td>\n",
       "      <td>GRP</td>\n",
       "      <td>Germany Â» Hamburg Â» HAMBURG</td>\n",
       "      <td>94</td>\n",
       "    </tr>\n",
       "  </tbody>\n",
       "</table>\n",
       "</div>"
      ],
      "text/plain": [
       "         Price   Boat Type        Manufacturer                 Type  \\\n",
       "9883  CHF 5000  Pilothouse  Lambro power boats   Used boat,Unleaded   \n",
       "9884  CHF 4990  Sport Boat  Pioner power boats    new boat on order   \n",
       "9885  CHF 4980  Sport Boat  Linder power boats  new boat from stock   \n",
       "9886  CHF 4950  Sport Boat  Marine power boats  new boat from stock   \n",
       "9887  EUR 4516  Sport Boat                 NaN  new boat from stock   \n",
       "\n",
       "      Year Built  Length  Width   Material  \\\n",
       "9883           0    6.50   2.45        GRP   \n",
       "9884           0    4.11   1.73        NaN   \n",
       "9885           0    4.01   1.64  Aluminium   \n",
       "9886           0    3.99   1.52  Aluminium   \n",
       "9887           0    4.17   1.68        GRP   \n",
       "\n",
       "                                        Location  Number of views last 7 days  \n",
       "9883                 Switzerland Â» 3421 Lyssach                          550  \n",
       "9884                     Switzerland Â» Safenwil                          280  \n",
       "9885     Switzerland Â» Lake Constance Â» Uttwil                          247  \n",
       "9886  Switzerland Â» Lake of Zurich Â» StÃ¤fa ZH                          150  \n",
       "9887               Germany Â» Hamburg Â» HAMBURG                           94  "
      ]
     },
     "execution_count": 54,
     "metadata": {},
     "output_type": "execute_result"
    }
   ],
   "source": [
    "df.tail()"
   ]
  },
  {
   "cell_type": "code",
   "execution_count": 55,
   "id": "f5dd98a5",
   "metadata": {},
   "outputs": [
    {
     "data": {
      "text/plain": [
       "(9888, 10)"
      ]
     },
     "execution_count": 55,
     "metadata": {},
     "output_type": "execute_result"
    }
   ],
   "source": [
    "df.shape"
   ]
  },
  {
   "cell_type": "code",
   "execution_count": 56,
   "id": "02a4145f",
   "metadata": {},
   "outputs": [
    {
     "name": "stdout",
     "output_type": "stream",
     "text": [
      "<class 'pandas.core.frame.DataFrame'>\n",
      "RangeIndex: 9888 entries, 0 to 9887\n",
      "Data columns (total 10 columns):\n",
      " #   Column                       Non-Null Count  Dtype  \n",
      "---  ------                       --------------  -----  \n",
      " 0   Price                        9888 non-null   object \n",
      " 1   Boat Type                    9888 non-null   object \n",
      " 2   Manufacturer                 8550 non-null   object \n",
      " 3   Type                         9882 non-null   object \n",
      " 4   Year Built                   9888 non-null   int64  \n",
      " 5   Length                       9879 non-null   float64\n",
      " 6   Width                        9832 non-null   float64\n",
      " 7   Material                     8139 non-null   object \n",
      " 8   Location                     9852 non-null   object \n",
      " 9   Number of views last 7 days  9888 non-null   int64  \n",
      "dtypes: float64(2), int64(2), object(6)\n",
      "memory usage: 772.6+ KB\n"
     ]
    }
   ],
   "source": [
    "df.info()"
   ]
  },
  {
   "cell_type": "code",
   "execution_count": 57,
   "id": "e9c240a1",
   "metadata": {},
   "outputs": [
    {
     "data": {
      "text/plain": [
       "Price                           object\n",
       "Boat Type                       object\n",
       "Manufacturer                    object\n",
       "Type                            object\n",
       "Year Built                       int64\n",
       "Length                         float64\n",
       "Width                          float64\n",
       "Material                        object\n",
       "Location                        object\n",
       "Number of views last 7 days      int64\n",
       "dtype: object"
      ]
     },
     "execution_count": 57,
     "metadata": {},
     "output_type": "execute_result"
    }
   ],
   "source": [
    "df.dtypes"
   ]
  },
  {
   "cell_type": "code",
   "execution_count": 58,
   "id": "8a2027c9",
   "metadata": {},
   "outputs": [
    {
     "data": {
      "text/plain": [
       "Index(['Price', 'Boat Type', 'Manufacturer', 'Type', 'Year Built', 'Length',\n",
       "       'Width', 'Material', 'Location', 'Number of views last 7 days'],\n",
       "      dtype='object')"
      ]
     },
     "execution_count": 58,
     "metadata": {},
     "output_type": "execute_result"
    }
   ],
   "source": [
    "df.columns"
   ]
  },
  {
   "cell_type": "code",
   "execution_count": 59,
   "id": "9d1c98ef",
   "metadata": {},
   "outputs": [
    {
     "data": {
      "text/html": [
       "<div>\n",
       "<style scoped>\n",
       "    .dataframe tbody tr th:only-of-type {\n",
       "        vertical-align: middle;\n",
       "    }\n",
       "\n",
       "    .dataframe tbody tr th {\n",
       "        vertical-align: top;\n",
       "    }\n",
       "\n",
       "    .dataframe thead th {\n",
       "        text-align: right;\n",
       "    }\n",
       "</style>\n",
       "<table border=\"1\" class=\"dataframe\">\n",
       "  <thead>\n",
       "    <tr style=\"text-align: right;\">\n",
       "      <th></th>\n",
       "      <th>Year Built</th>\n",
       "      <th>Length</th>\n",
       "      <th>Width</th>\n",
       "      <th>Number of views last 7 days</th>\n",
       "    </tr>\n",
       "  </thead>\n",
       "  <tbody>\n",
       "    <tr>\n",
       "      <th>count</th>\n",
       "      <td>9888.000000</td>\n",
       "      <td>9879.000000</td>\n",
       "      <td>9832.000000</td>\n",
       "      <td>9888.000000</td>\n",
       "    </tr>\n",
       "    <tr>\n",
       "      <th>mean</th>\n",
       "      <td>1893.192860</td>\n",
       "      <td>11.570017</td>\n",
       "      <td>3.520124</td>\n",
       "      <td>149.160801</td>\n",
       "    </tr>\n",
       "    <tr>\n",
       "      <th>std</th>\n",
       "      <td>460.201582</td>\n",
       "      <td>6.002820</td>\n",
       "      <td>1.220534</td>\n",
       "      <td>151.819752</td>\n",
       "    </tr>\n",
       "    <tr>\n",
       "      <th>min</th>\n",
       "      <td>0.000000</td>\n",
       "      <td>1.040000</td>\n",
       "      <td>0.010000</td>\n",
       "      <td>13.000000</td>\n",
       "    </tr>\n",
       "    <tr>\n",
       "      <th>25%</th>\n",
       "      <td>1996.000000</td>\n",
       "      <td>7.470000</td>\n",
       "      <td>2.540000</td>\n",
       "      <td>70.000000</td>\n",
       "    </tr>\n",
       "    <tr>\n",
       "      <th>50%</th>\n",
       "      <td>2007.000000</td>\n",
       "      <td>10.280000</td>\n",
       "      <td>3.330000</td>\n",
       "      <td>108.000000</td>\n",
       "    </tr>\n",
       "    <tr>\n",
       "      <th>75%</th>\n",
       "      <td>2017.000000</td>\n",
       "      <td>13.930000</td>\n",
       "      <td>4.250000</td>\n",
       "      <td>172.000000</td>\n",
       "    </tr>\n",
       "    <tr>\n",
       "      <th>max</th>\n",
       "      <td>2021.000000</td>\n",
       "      <td>100.000000</td>\n",
       "      <td>25.160000</td>\n",
       "      <td>3263.000000</td>\n",
       "    </tr>\n",
       "  </tbody>\n",
       "</table>\n",
       "</div>"
      ],
      "text/plain": [
       "        Year Built       Length        Width  Number of views last 7 days\n",
       "count  9888.000000  9879.000000  9832.000000                  9888.000000\n",
       "mean   1893.192860    11.570017     3.520124                   149.160801\n",
       "std     460.201582     6.002820     1.220534                   151.819752\n",
       "min       0.000000     1.040000     0.010000                    13.000000\n",
       "25%    1996.000000     7.470000     2.540000                    70.000000\n",
       "50%    2007.000000    10.280000     3.330000                   108.000000\n",
       "75%    2017.000000    13.930000     4.250000                   172.000000\n",
       "max    2021.000000   100.000000    25.160000                  3263.000000"
      ]
     },
     "execution_count": 59,
     "metadata": {},
     "output_type": "execute_result"
    }
   ],
   "source": [
    "df.describe()"
   ]
  },
  {
   "cell_type": "markdown",
   "id": "36c7b02c",
   "metadata": {},
   "source": [
    "# 04. Data Wrangling"
   ]
  },
  {
   "cell_type": "code",
   "execution_count": 60,
   "id": "acd4025e",
   "metadata": {},
   "outputs": [],
   "source": [
    "# identifying missing values"
   ]
  },
  {
   "cell_type": "code",
   "execution_count": 61,
   "id": "878ee9fc",
   "metadata": {},
   "outputs": [
    {
     "data": {
      "text/html": [
       "<div>\n",
       "<style scoped>\n",
       "    .dataframe tbody tr th:only-of-type {\n",
       "        vertical-align: middle;\n",
       "    }\n",
       "\n",
       "    .dataframe tbody tr th {\n",
       "        vertical-align: top;\n",
       "    }\n",
       "\n",
       "    .dataframe thead th {\n",
       "        text-align: right;\n",
       "    }\n",
       "</style>\n",
       "<table border=\"1\" class=\"dataframe\">\n",
       "  <thead>\n",
       "    <tr style=\"text-align: right;\">\n",
       "      <th></th>\n",
       "      <th>Price</th>\n",
       "      <th>Boat Type</th>\n",
       "      <th>Manufacturer</th>\n",
       "      <th>Type</th>\n",
       "      <th>Year Built</th>\n",
       "      <th>Length</th>\n",
       "      <th>Width</th>\n",
       "      <th>Material</th>\n",
       "      <th>Location</th>\n",
       "      <th>Number of views last 7 days</th>\n",
       "    </tr>\n",
       "  </thead>\n",
       "  <tbody>\n",
       "    <tr>\n",
       "      <th>0</th>\n",
       "      <td>EUR 61713</td>\n",
       "      <td>Bowrider</td>\n",
       "      <td>Regal power boats</td>\n",
       "      <td>new boat from stock,Unleaded</td>\n",
       "      <td>2021</td>\n",
       "      <td>6.10</td>\n",
       "      <td>2.50</td>\n",
       "      <td>GRP</td>\n",
       "      <td>Germany Â» Lake Constance Â» Lindau/Bodensee</td>\n",
       "      <td>110</td>\n",
       "    </tr>\n",
       "    <tr>\n",
       "      <th>1</th>\n",
       "      <td>CHF 72700</td>\n",
       "      <td>Bowrider</td>\n",
       "      <td>Tahoe power boats</td>\n",
       "      <td>new boat on order,Unleaded</td>\n",
       "      <td>2021</td>\n",
       "      <td>6.40</td>\n",
       "      <td>2.55</td>\n",
       "      <td>GRP</td>\n",
       "      <td>Switzerland Â» Lake of Zurich Â» Horgen</td>\n",
       "      <td>205</td>\n",
       "    </tr>\n",
       "    <tr>\n",
       "      <th>2</th>\n",
       "      <td>CHF 84329</td>\n",
       "      <td>Sport Boat</td>\n",
       "      <td>Regal power boats</td>\n",
       "      <td>new boat from stock,Unleaded</td>\n",
       "      <td>2021</td>\n",
       "      <td>6.40</td>\n",
       "      <td>2.50</td>\n",
       "      <td>GRP</td>\n",
       "      <td>Switzerland Â» Lake of Zurich Â» Altendorf</td>\n",
       "      <td>128</td>\n",
       "    </tr>\n",
       "    <tr>\n",
       "      <th>3</th>\n",
       "      <td>CHF 96856</td>\n",
       "      <td>Sport Boat</td>\n",
       "      <td>Regal power boats</td>\n",
       "      <td>new boat from stock,Unleaded</td>\n",
       "      <td>2021</td>\n",
       "      <td>6.25</td>\n",
       "      <td>2.50</td>\n",
       "      <td>GRP</td>\n",
       "      <td>Switzerland Â» Lake of Zurich Â» Altendorf</td>\n",
       "      <td>218</td>\n",
       "    </tr>\n",
       "    <tr>\n",
       "      <th>4</th>\n",
       "      <td>CHF 102168</td>\n",
       "      <td>Bowrider</td>\n",
       "      <td>Chaparral power boats</td>\n",
       "      <td>new boat on order,Unleaded</td>\n",
       "      <td>2021</td>\n",
       "      <td>7.01</td>\n",
       "      <td>2.59</td>\n",
       "      <td>GRP</td>\n",
       "      <td>Switzerland Â» Lake Constance Â» Gottlieben</td>\n",
       "      <td>312</td>\n",
       "    </tr>\n",
       "  </tbody>\n",
       "</table>\n",
       "</div>"
      ],
      "text/plain": [
       "        Price   Boat Type           Manufacturer  \\\n",
       "0   EUR 61713    Bowrider      Regal power boats   \n",
       "1   CHF 72700    Bowrider      Tahoe power boats   \n",
       "2   CHF 84329  Sport Boat      Regal power boats   \n",
       "3   CHF 96856  Sport Boat      Regal power boats   \n",
       "4  CHF 102168    Bowrider  Chaparral power boats   \n",
       "\n",
       "                           Type  Year Built  Length  Width Material  \\\n",
       "0  new boat from stock,Unleaded        2021    6.10   2.50      GRP   \n",
       "1    new boat on order,Unleaded        2021    6.40   2.55      GRP   \n",
       "2  new boat from stock,Unleaded        2021    6.40   2.50      GRP   \n",
       "3  new boat from stock,Unleaded        2021    6.25   2.50      GRP   \n",
       "4    new boat on order,Unleaded        2021    7.01   2.59      GRP   \n",
       "\n",
       "                                       Location  Number of views last 7 days  \n",
       "0  Germany Â» Lake Constance Â» Lindau/Bodensee                          110  \n",
       "1       Switzerland Â» Lake of Zurich Â» Horgen                          205  \n",
       "2   Switzerland Â» Lake of Zurich Â» Altendorf                           128  \n",
       "3   Switzerland Â» Lake of Zurich Â» Altendorf                           218  \n",
       "4  Switzerland Â» Lake Constance Â» Gottlieben                           312  "
      ]
     },
     "execution_count": 61,
     "metadata": {},
     "output_type": "execute_result"
    }
   ],
   "source": [
    "df.head()"
   ]
  },
  {
   "cell_type": "markdown",
   "id": "f00235be",
   "metadata": {},
   "source": [
    "## Renaming Columns - Data Wrangling"
   ]
  },
  {
   "cell_type": "code",
   "execution_count": 62,
   "id": "d0a2e9c7",
   "metadata": {},
   "outputs": [],
   "source": [
    "#renaming 'Number of views last 7 days' column"
   ]
  },
  {
   "cell_type": "code",
   "execution_count": 63,
   "id": "5644d038",
   "metadata": {},
   "outputs": [],
   "source": [
    "df.rename(columns = {'Number of views last 7 days' : 'Total Number of Views Last 7 Days'}, inplace = True)"
   ]
  },
  {
   "cell_type": "code",
   "execution_count": 64,
   "id": "ecb25521",
   "metadata": {},
   "outputs": [
    {
     "data": {
      "text/html": [
       "<div>\n",
       "<style scoped>\n",
       "    .dataframe tbody tr th:only-of-type {\n",
       "        vertical-align: middle;\n",
       "    }\n",
       "\n",
       "    .dataframe tbody tr th {\n",
       "        vertical-align: top;\n",
       "    }\n",
       "\n",
       "    .dataframe thead th {\n",
       "        text-align: right;\n",
       "    }\n",
       "</style>\n",
       "<table border=\"1\" class=\"dataframe\">\n",
       "  <thead>\n",
       "    <tr style=\"text-align: right;\">\n",
       "      <th></th>\n",
       "      <th>Price</th>\n",
       "      <th>Boat Type</th>\n",
       "      <th>Manufacturer</th>\n",
       "      <th>Type</th>\n",
       "      <th>Year Built</th>\n",
       "      <th>Length</th>\n",
       "      <th>Width</th>\n",
       "      <th>Material</th>\n",
       "      <th>Location</th>\n",
       "      <th>Total Number of Views Last 7 Days</th>\n",
       "    </tr>\n",
       "  </thead>\n",
       "  <tbody>\n",
       "    <tr>\n",
       "      <th>0</th>\n",
       "      <td>EUR 61713</td>\n",
       "      <td>Bowrider</td>\n",
       "      <td>Regal power boats</td>\n",
       "      <td>new boat from stock,Unleaded</td>\n",
       "      <td>2021</td>\n",
       "      <td>6.10</td>\n",
       "      <td>2.50</td>\n",
       "      <td>GRP</td>\n",
       "      <td>Germany Â» Lake Constance Â» Lindau/Bodensee</td>\n",
       "      <td>110</td>\n",
       "    </tr>\n",
       "    <tr>\n",
       "      <th>1</th>\n",
       "      <td>CHF 72700</td>\n",
       "      <td>Bowrider</td>\n",
       "      <td>Tahoe power boats</td>\n",
       "      <td>new boat on order,Unleaded</td>\n",
       "      <td>2021</td>\n",
       "      <td>6.40</td>\n",
       "      <td>2.55</td>\n",
       "      <td>GRP</td>\n",
       "      <td>Switzerland Â» Lake of Zurich Â» Horgen</td>\n",
       "      <td>205</td>\n",
       "    </tr>\n",
       "    <tr>\n",
       "      <th>2</th>\n",
       "      <td>CHF 84329</td>\n",
       "      <td>Sport Boat</td>\n",
       "      <td>Regal power boats</td>\n",
       "      <td>new boat from stock,Unleaded</td>\n",
       "      <td>2021</td>\n",
       "      <td>6.40</td>\n",
       "      <td>2.50</td>\n",
       "      <td>GRP</td>\n",
       "      <td>Switzerland Â» Lake of Zurich Â» Altendorf</td>\n",
       "      <td>128</td>\n",
       "    </tr>\n",
       "    <tr>\n",
       "      <th>3</th>\n",
       "      <td>CHF 96856</td>\n",
       "      <td>Sport Boat</td>\n",
       "      <td>Regal power boats</td>\n",
       "      <td>new boat from stock,Unleaded</td>\n",
       "      <td>2021</td>\n",
       "      <td>6.25</td>\n",
       "      <td>2.50</td>\n",
       "      <td>GRP</td>\n",
       "      <td>Switzerland Â» Lake of Zurich Â» Altendorf</td>\n",
       "      <td>218</td>\n",
       "    </tr>\n",
       "    <tr>\n",
       "      <th>4</th>\n",
       "      <td>CHF 102168</td>\n",
       "      <td>Bowrider</td>\n",
       "      <td>Chaparral power boats</td>\n",
       "      <td>new boat on order,Unleaded</td>\n",
       "      <td>2021</td>\n",
       "      <td>7.01</td>\n",
       "      <td>2.59</td>\n",
       "      <td>GRP</td>\n",
       "      <td>Switzerland Â» Lake Constance Â» Gottlieben</td>\n",
       "      <td>312</td>\n",
       "    </tr>\n",
       "  </tbody>\n",
       "</table>\n",
       "</div>"
      ],
      "text/plain": [
       "        Price   Boat Type           Manufacturer  \\\n",
       "0   EUR 61713    Bowrider      Regal power boats   \n",
       "1   CHF 72700    Bowrider      Tahoe power boats   \n",
       "2   CHF 84329  Sport Boat      Regal power boats   \n",
       "3   CHF 96856  Sport Boat      Regal power boats   \n",
       "4  CHF 102168    Bowrider  Chaparral power boats   \n",
       "\n",
       "                           Type  Year Built  Length  Width Material  \\\n",
       "0  new boat from stock,Unleaded        2021    6.10   2.50      GRP   \n",
       "1    new boat on order,Unleaded        2021    6.40   2.55      GRP   \n",
       "2  new boat from stock,Unleaded        2021    6.40   2.50      GRP   \n",
       "3  new boat from stock,Unleaded        2021    6.25   2.50      GRP   \n",
       "4    new boat on order,Unleaded        2021    7.01   2.59      GRP   \n",
       "\n",
       "                                       Location  \\\n",
       "0  Germany Â» Lake Constance Â» Lindau/Bodensee   \n",
       "1       Switzerland Â» Lake of Zurich Â» Horgen   \n",
       "2   Switzerland Â» Lake of Zurich Â» Altendorf    \n",
       "3   Switzerland Â» Lake of Zurich Â» Altendorf    \n",
       "4  Switzerland Â» Lake Constance Â» Gottlieben    \n",
       "\n",
       "   Total Number of Views Last 7 Days  \n",
       "0                                110  \n",
       "1                                205  \n",
       "2                                128  \n",
       "3                                218  \n",
       "4                                312  "
      ]
     },
     "execution_count": 64,
     "metadata": {},
     "output_type": "execute_result"
    }
   ],
   "source": [
    "df.head()"
   ]
  },
  {
   "cell_type": "markdown",
   "id": "04c1e1ca",
   "metadata": {},
   "source": [
    "## Changing a Variables Data Type - Data Wrangling"
   ]
  },
  {
   "cell_type": "code",
   "execution_count": 65,
   "id": "c52dfaae",
   "metadata": {},
   "outputs": [],
   "source": [
    "df['Boat Type'] = df['Boat Type'].astype('str')"
   ]
  },
  {
   "cell_type": "code",
   "execution_count": 66,
   "id": "24b0c7aa",
   "metadata": {},
   "outputs": [],
   "source": [
    "df['Manufacturer'] = df['Manufacturer'].astype('str')"
   ]
  },
  {
   "cell_type": "code",
   "execution_count": 67,
   "id": "5dee9c29",
   "metadata": {},
   "outputs": [],
   "source": [
    "df['Type'] = df['Type'].astype('str')"
   ]
  },
  {
   "cell_type": "code",
   "execution_count": 68,
   "id": "5123df07",
   "metadata": {},
   "outputs": [],
   "source": [
    "# Use dtype() function to return the data type of new columns"
   ]
  },
  {
   "cell_type": "code",
   "execution_count": 69,
   "id": "a4ee9608",
   "metadata": {},
   "outputs": [
    {
     "data": {
      "text/plain": [
       "dtype('O')"
      ]
     },
     "execution_count": 69,
     "metadata": {},
     "output_type": "execute_result"
    }
   ],
   "source": [
    "df['Boat Type'].dtype"
   ]
  },
  {
   "cell_type": "code",
   "execution_count": 70,
   "id": "ed26532e",
   "metadata": {},
   "outputs": [
    {
     "data": {
      "text/plain": [
       "dtype('O')"
      ]
     },
     "execution_count": 70,
     "metadata": {},
     "output_type": "execute_result"
    }
   ],
   "source": [
    "df['Manufacturer'].dtype"
   ]
  },
  {
   "cell_type": "code",
   "execution_count": 71,
   "id": "79c11985",
   "metadata": {},
   "outputs": [
    {
     "data": {
      "text/plain": [
       "dtype('O')"
      ]
     },
     "execution_count": 71,
     "metadata": {},
     "output_type": "execute_result"
    }
   ],
   "source": [
    "df['Type'].dtype"
   ]
  },
  {
   "cell_type": "markdown",
   "id": "9bb2abc9",
   "metadata": {},
   "source": [
    "# 05. Export Data"
   ]
  },
  {
   "cell_type": "code",
   "execution_count": 73,
   "id": "159cf771",
   "metadata": {},
   "outputs": [],
   "source": [
    "#Export dataframe as “df_wrangled.csv” in “Prepared Data” folder."
   ]
  },
  {
   "cell_type": "code",
   "execution_count": 74,
   "id": "9f90f293",
   "metadata": {},
   "outputs": [],
   "source": [
    "df.to_csv(os.path.join(path, '02 Data','Prepared Data', 'df_wrangled.csv'))"
   ]
  },
  {
   "cell_type": "code",
   "execution_count": null,
   "id": "8f1bc8e2",
   "metadata": {},
   "outputs": [],
   "source": []
  }
 ],
 "metadata": {
  "kernelspec": {
   "display_name": "Python 3 (ipykernel)",
   "language": "python",
   "name": "python3"
  },
  "language_info": {
   "codemirror_mode": {
    "name": "ipython",
    "version": 3
   },
   "file_extension": ".py",
   "mimetype": "text/x-python",
   "name": "python",
   "nbconvert_exporter": "python",
   "pygments_lexer": "ipython3",
   "version": "3.9.13"
  }
 },
 "nbformat": 4,
 "nbformat_minor": 5
}
